{
 "cells": [
  {
   "cell_type": "markdown",
   "source": [
    "# Набор данных"
   ],
   "metadata": {
    "collapsed": false
   }
  },
  {
   "cell_type": "markdown",
   "source": [
    "[Набор данных](https://drive.google.com/file/d/1qCMvjO0GlNk1WCu7HKn5W8vUNVdJ7eZD/view?usp=share_link) -- запись 2.2 часов игры в простую мини игру obstacles, целью которой является преодоление случайных препятствий (см. [видео](https://drive.google.com/file/d/1aUN1821DvO3V1zxNGBBkSVJ6e93_SxuZ/view?usp=share_link) для примера). Состояние игры сохранялось каждые 50 мс (1 игровой тик).\n",
    "\n",
    "Признаки:\n",
    "- поставил ли игрок красный блок в этот игровой тик (`placed_block`)\n",
    "- держит ли игрок блок (`holds_block`)\n",
    "- координаты игрока (`x`, `y`, `z`)\n",
    "- угол поворота камеры относительно осей координат в градусах (`yaw`, `pitch`)\n",
    "- может ли игрок летать (`can_fly`)\n",
    "  - `true` во время возрождения\n",
    "- координаты блока, который игрок сейчас может поставить (`x_block`, `y_block`, `z_block`)\n",
    "  - `NaN`, если игрок не смотрит на блок\n",
    "- упал ли игрок только что в бездну (`missclick`)\n",
    "- какие клавиши нажаты (`key_forward`, `key_back`, `key_left`, `key_right`, `key_jump`, `key_sneak`)\n",
    "- стою ли игрок на блоке (`on_ground`)\n",
    "- находятся ли блоки в кубе 5x5x5 блоков вокруг игрока (`player[x][y][z]`, где $x, y, z \\in \\{-2, -1, 0, 1, 2\\}$)\n",
    "- находятся ли блоки в кубе 5x5x5 блоков вокруг блока, на который смотрит игрок (`block[dx][dy][dz]`, где $x, y, z \\in \\{-2, -1, 0, 1, 2\\}$)\n",
    "  - если игрок не смотрит на блок, то используется блок на расстоянии 4 блоков от него в направлении взгляда\n",
    "- находятся ли блоки в кубе 5x5x5 блоков вокруг средней точки между центрами кубов из двух предыдущих пунктов (`middle[dx][dy][dz]`, где $x, y, z \\in \\{-2, -1, 0, 1, 2\\}$)"
   ],
   "metadata": {
    "collapsed": false
   }
  },
  {
   "cell_type": "code",
   "execution_count": null,
   "metadata": {
    "pycharm": {
     "is_executing": true
    }
   },
   "outputs": [],
   "source": [
    "!pip install pandas==1.5.3\n",
    "!pip install matplotlib==3.7.1\n",
    "!pip install seaborn==0.12.2"
   ]
  },
  {
   "cell_type": "code",
   "execution_count": 2,
   "metadata": {},
   "outputs": [],
   "source": [
    "import pandas as pd\n",
    "import numpy as np"
   ]
  },
  {
   "cell_type": "markdown",
   "source": [
    "# Разведочный анализ (EDA) и преобразования данных"
   ],
   "metadata": {
    "collapsed": false
   }
  },
  {
   "cell_type": "markdown",
   "source": [
    "Загрузим частично предобработанный в предыдущем задании набор данных"
   ],
   "metadata": {
    "collapsed": false
   }
  },
  {
   "cell_type": "code",
   "execution_count": 3,
   "outputs": [],
   "source": [
    "df = pd.read_csv('prepared_place.csv')"
   ],
   "metadata": {
    "collapsed": false
   }
  },
  {
   "cell_type": "markdown",
   "source": [
    "Посмотрим на средние значения и стандартные отклонения признаков, заметим, что стандартное отклонение сильно меняется от признака к признаку: от $0.09$ для `vel_z` до $52$ для `yaw`. Необходима нормализация."
   ],
   "metadata": {
    "collapsed": false
   }
  },
  {
   "cell_type": "code",
   "execution_count": 4,
   "outputs": [
    {
     "data": {
      "text/plain": "                        Mean        Std\nvel_z               0.003975   0.092472\nmiddle[0][1][0]     0.008628   0.092489\nblock[0][1][0]      0.009209   0.095521\nmiddle[1][1][0]     0.009518   0.097098\nvel_x              -0.214484   0.119356\n...                      ...        ...\nrel_block_y        -0.954000   0.850004\ny                 104.280098   2.374035\nz                1989.270528   2.783446\npitch              57.743340  14.661339\nyaw               108.924361  51.984349\n\n[345 rows x 2 columns]",
      "text/html": "<div>\n<style scoped>\n    .dataframe tbody tr th:only-of-type {\n        vertical-align: middle;\n    }\n\n    .dataframe tbody tr th {\n        vertical-align: top;\n    }\n\n    .dataframe thead th {\n        text-align: right;\n    }\n</style>\n<table border=\"1\" class=\"dataframe\">\n  <thead>\n    <tr style=\"text-align: right;\">\n      <th></th>\n      <th>Mean</th>\n      <th>Std</th>\n    </tr>\n  </thead>\n  <tbody>\n    <tr>\n      <th>vel_z</th>\n      <td>0.003975</td>\n      <td>0.092472</td>\n    </tr>\n    <tr>\n      <th>middle[0][1][0]</th>\n      <td>0.008628</td>\n      <td>0.092489</td>\n    </tr>\n    <tr>\n      <th>block[0][1][0]</th>\n      <td>0.009209</td>\n      <td>0.095521</td>\n    </tr>\n    <tr>\n      <th>middle[1][1][0]</th>\n      <td>0.009518</td>\n      <td>0.097098</td>\n    </tr>\n    <tr>\n      <th>vel_x</th>\n      <td>-0.214484</td>\n      <td>0.119356</td>\n    </tr>\n    <tr>\n      <th>...</th>\n      <td>...</td>\n      <td>...</td>\n    </tr>\n    <tr>\n      <th>rel_block_y</th>\n      <td>-0.954000</td>\n      <td>0.850004</td>\n    </tr>\n    <tr>\n      <th>y</th>\n      <td>104.280098</td>\n      <td>2.374035</td>\n    </tr>\n    <tr>\n      <th>z</th>\n      <td>1989.270528</td>\n      <td>2.783446</td>\n    </tr>\n    <tr>\n      <th>pitch</th>\n      <td>57.743340</td>\n      <td>14.661339</td>\n    </tr>\n    <tr>\n      <th>yaw</th>\n      <td>108.924361</td>\n      <td>51.984349</td>\n    </tr>\n  </tbody>\n</table>\n<p>345 rows × 2 columns</p>\n</div>"
     },
     "execution_count": 4,
     "metadata": {},
     "output_type": "execute_result"
    }
   ],
   "source": [
    "pd.DataFrame({\"Mean\": df.mean(), \"Std\": df.std()}).sort_values(by=[\"Std\"])"
   ],
   "metadata": {
    "collapsed": false
   }
  },
  {
   "cell_type": "markdown",
   "source": [
    "Нормализуем признаки"
   ],
   "metadata": {
    "collapsed": false
   }
  },
  {
   "cell_type": "code",
   "execution_count": 5,
   "outputs": [],
   "source": [
    "df = (df - df.mean()) / df.std()"
   ],
   "metadata": {
    "collapsed": false
   }
  },
  {
   "cell_type": "markdown",
   "source": [
    "Разобьём признаки на массивы и не массивы"
   ],
   "metadata": {
    "collapsed": false
   }
  },
  {
   "cell_type": "code",
   "execution_count": 6,
   "outputs": [
    {
     "name": "stdout",
     "output_type": "stream",
     "text": [
      "Array columns: 322\n",
      "Non array columns: 23\n",
      "Array to non array columns ratio: 14.0\n"
     ]
    }
   ],
   "source": [
    "arr_columns = [col for col in df.columns if '[' in col]\n",
    "non_arr_columns = [col for col in df.columns if '[' not in col]\n",
    "arr_to_non_arr_ratio = len(arr_columns) / len(non_arr_columns)\n",
    "print(\"Array columns:\", len(arr_columns))\n",
    "print(\"Non array columns:\", len(non_arr_columns))\n",
    "print(\"Array to non array columns ratio:\", arr_to_non_arr_ratio)"
   ],
   "metadata": {
    "collapsed": false
   }
  },
  {
   "cell_type": "markdown",
   "source": [
    "Заметим, что признаков-массивов в 14 раз больше, однако из экспертизы в предметной области известно, что они не столь информативны, поэтому отмасштабируем их"
   ],
   "metadata": {
    "collapsed": false
   }
  },
  {
   "cell_type": "code",
   "execution_count": 7,
   "outputs": [],
   "source": [
    "df[arr_columns] /= arr_to_non_arr_ratio"
   ],
   "metadata": {
    "collapsed": false
   }
  },
  {
   "cell_type": "markdown",
   "source": [
    "Также известно, что блоки ближе к центру более важные, поэтому отмасштабируем признаки-массивы ещё раз в соответствии с нормой их индексов"
   ],
   "metadata": {
    "collapsed": false
   }
  },
  {
   "cell_type": "code",
   "execution_count": 8,
   "outputs": [],
   "source": [
    "importances = [1 / (1 + sum(int(cord) * int(cord) for cord in col.replace(\"]\", \"\").split(\"[\")[1:])) for col in arr_columns]\n",
    "\n",
    "importances /= np.mean(importances)\n",
    "\n",
    "for col, importance in zip(arr_columns, importances):\n",
    "  df[col] *= importance"
   ],
   "metadata": {
    "collapsed": false
   }
  },
  {
   "cell_type": "markdown",
   "source": [
    "Ещё раз посмотрим на средние значения и стандартные отклонения признаков, чтобы убедиться, что всё отмасштабировано правильно"
   ],
   "metadata": {
    "collapsed": false
   }
  },
  {
   "cell_type": "code",
   "execution_count": 9,
   "outputs": [
    {
     "data": {
      "text/plain": "                           Mean       Std\nmiddle[2][-2][-2] -4.020773e-18  0.030296\nmiddle[-2][2][2]   1.219978e-18  0.030296\nmiddle[-2][-2][2]  1.718279e-18  0.030296\nplayer[-2][2][-2] -6.873116e-20  0.030296\nblock[2][2][2]     0.000000e+00  0.030296\n...                         ...       ...\ny_frac            -2.100424e-16  1.000000\nvel_x              3.678492e-16  1.000000\nwill_place         7.477950e-17  1.000000\nkey_back          -2.859216e-17  1.000000\nkey_right          3.079156e-17  1.000000\n\n[345 rows x 2 columns]",
      "text/html": "<div>\n<style scoped>\n    .dataframe tbody tr th:only-of-type {\n        vertical-align: middle;\n    }\n\n    .dataframe tbody tr th {\n        vertical-align: top;\n    }\n\n    .dataframe thead th {\n        text-align: right;\n    }\n</style>\n<table border=\"1\" class=\"dataframe\">\n  <thead>\n    <tr style=\"text-align: right;\">\n      <th></th>\n      <th>Mean</th>\n      <th>Std</th>\n    </tr>\n  </thead>\n  <tbody>\n    <tr>\n      <th>middle[2][-2][-2]</th>\n      <td>-4.020773e-18</td>\n      <td>0.030296</td>\n    </tr>\n    <tr>\n      <th>middle[-2][2][2]</th>\n      <td>1.219978e-18</td>\n      <td>0.030296</td>\n    </tr>\n    <tr>\n      <th>middle[-2][-2][2]</th>\n      <td>1.718279e-18</td>\n      <td>0.030296</td>\n    </tr>\n    <tr>\n      <th>player[-2][2][-2]</th>\n      <td>-6.873116e-20</td>\n      <td>0.030296</td>\n    </tr>\n    <tr>\n      <th>block[2][2][2]</th>\n      <td>0.000000e+00</td>\n      <td>0.030296</td>\n    </tr>\n    <tr>\n      <th>...</th>\n      <td>...</td>\n      <td>...</td>\n    </tr>\n    <tr>\n      <th>y_frac</th>\n      <td>-2.100424e-16</td>\n      <td>1.000000</td>\n    </tr>\n    <tr>\n      <th>vel_x</th>\n      <td>3.678492e-16</td>\n      <td>1.000000</td>\n    </tr>\n    <tr>\n      <th>will_place</th>\n      <td>7.477950e-17</td>\n      <td>1.000000</td>\n    </tr>\n    <tr>\n      <th>key_back</th>\n      <td>-2.859216e-17</td>\n      <td>1.000000</td>\n    </tr>\n    <tr>\n      <th>key_right</th>\n      <td>3.079156e-17</td>\n      <td>1.000000</td>\n    </tr>\n  </tbody>\n</table>\n<p>345 rows × 2 columns</p>\n</div>"
     },
     "execution_count": 9,
     "metadata": {},
     "output_type": "execute_result"
    }
   ],
   "source": [
    "pd.DataFrame({\"Mean\": df.mean(), \"Std\": df.std()}).sort_values(by=[\"Std\"])"
   ],
   "metadata": {
    "collapsed": false
   }
  },
  {
   "cell_type": "markdown",
   "source": [
    "Сохраним обработанный набор данных"
   ],
   "metadata": {
    "collapsed": false
   }
  },
  {
   "cell_type": "code",
   "execution_count": 10,
   "outputs": [],
   "source": [
    "df.to_csv(\"normalized_prepared_place.csv\", index=False)"
   ],
   "metadata": {
    "collapsed": false
   }
  }
 ],
 "metadata": {
  "kernelspec": {
   "display_name": "Python 3 (ipykernel)",
   "language": "python",
   "name": "python3"
  },
  "language_info": {
   "codemirror_mode": {
    "name": "ipython",
    "version": 3
   },
   "file_extension": ".py",
   "mimetype": "text/x-python",
   "name": "python",
   "nbconvert_exporter": "python",
   "pygments_lexer": "ipython3",
   "version": "3.8.16"
  }
 },
 "nbformat": 4,
 "nbformat_minor": 1
}
